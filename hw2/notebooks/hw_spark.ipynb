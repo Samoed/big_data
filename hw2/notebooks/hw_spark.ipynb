{
 "cells": [
  {
   "cell_type": "markdown",
   "id": "94005abd-5c07-4b17-8845-92df195772e6",
   "metadata": {},
   "source": [
    "# Part 1"
   ]
  },
  {
   "cell_type": "code",
   "execution_count": 1,
   "id": "a676d671-06a4-45a8-a3e6-470658e4f3df",
   "metadata": {},
   "outputs": [
    {
     "name": "stdout",
     "output_type": "stream",
     "text": [
      "Safe mode is OFF\n"
     ]
    }
   ],
   "source": [
    "!hdfs dfsadmin -safemode leave"
   ]
  },
  {
   "cell_type": "code",
   "execution_count": 2,
   "id": "c2bc6f62-0827-4ad0-af9d-9f128370f1a3",
   "metadata": {},
   "outputs": [],
   "source": [
    "from pyspark import SparkContext, SparkConf\n",
    "from pyspark.sql import SparkSession\n",
    "from pyspark.sql import functions as f\n",
    "from pyspark.sql.types import *"
   ]
  },
  {
   "cell_type": "code",
   "execution_count": 3,
   "id": "b5703f0f-6603-4c12-b76f-84161a4e338f",
   "metadata": {},
   "outputs": [],
   "source": [
    "conf = (\n",
    "    SparkConf()\n",
    "    .set(\"spark.executor.instances\", \"2\")\n",
    "    .set(\"spark.executor.cores\", \"1\")\n",
    "    .set(\"spark.executor.memory\", \"1g\")\n",
    ")"
   ]
  },
  {
   "cell_type": "code",
   "execution_count": 4,
   "id": "dc0fbec8-48f1-4e71-b00c-5309cb2eee91",
   "metadata": {},
   "outputs": [
    {
     "name": "stderr",
     "output_type": "stream",
     "text": [
      "Setting default log level to \"WARN\".\n",
      "To adjust logging level use sc.setLogLevel(newLevel). For SparkR, use setLogLevel(newLevel).\n",
      "23/12/02 14:41:36 WARN Client: Neither spark.yarn.jars nor spark.yarn.archive is set, falling back to uploading libraries under SPARK_HOME.\n"
     ]
    }
   ],
   "source": [
    "spark = (\n",
    "    SparkSession.builder.appName(\"Solomatin_spark\")\n",
    "    .config(conf=conf)\n",
    "    .master(master=\"yarn\")\n",
    "    .getOrCreate()\n",
    ")"
   ]
  },
  {
   "cell_type": "code",
   "execution_count": 5,
   "id": "9fc76b54-3413-4f92-8379-303d97ce6e4f",
   "metadata": {},
   "outputs": [
    {
     "name": "stdout",
     "output_type": "stream",
     "text": [
      "rm: `ml-latest-small': No such file or directory\n"
     ]
    }
   ],
   "source": [
    "!hdfs dfs -rm -r ml-latest-small\n",
    "!hdfs dfs -put ml-latest-small ."
   ]
  },
  {
   "cell_type": "code",
   "execution_count": 6,
   "id": "7ebecb8d-54c8-421a-8367-bd4c06d59f6b",
   "metadata": {},
   "outputs": [],
   "source": [
    "ratings_schema = StructType(\n",
    "    fields=[\n",
    "        StructField(\"userId\", IntegerType()),\n",
    "        StructField(\"movieId\", IntegerType()),\n",
    "        StructField(\"rating\", DoubleType()),\n",
    "        StructField(\"timestamp\", LongType()),\n",
    "    ]\n",
    ")\n",
    "ratings_df = (\n",
    "    spark.read.format(\"csv\")\n",
    "    .option(\"header\", \"True\")\n",
    "    .schema(ratings_schema)\n",
    "    .load(\"ml-latest-small/ratings.csv\")\n",
    ")"
   ]
  },
  {
   "cell_type": "code",
   "execution_count": 7,
   "id": "019e6844-d673-4a49-a4f2-6a9c95df331e",
   "metadata": {},
   "outputs": [],
   "source": [
    "tags_schema = StructType(\n",
    "    fields=[\n",
    "        StructField(\"userId\", IntegerType()),\n",
    "        StructField(\"movieId\", IntegerType()),\n",
    "        StructField(\"tag\", StringType()),\n",
    "        StructField(\"timestamp\", LongType()),\n",
    "    ]\n",
    ")\n",
    "\n",
    "tags_df = (\n",
    "    spark.read.format(\"csv\")\n",
    "    .option(\"header\", \"True\")\n",
    "    .schema(tags_schema)\n",
    "    .load(\"ml-latest-small/tags.csv\")\n",
    ")"
   ]
  },
  {
   "cell_type": "code",
   "execution_count": 8,
   "id": "ec660c74-6f6e-4dbc-a7a2-6c1d23b09637",
   "metadata": {},
   "outputs": [],
   "source": [
    "movies_schema = StructType(\n",
    "    fields=[\n",
    "        StructField(\"movieId\", IntegerType()),\n",
    "        StructField(\"title\", StringType()),\n",
    "        StructField(\"genres\", StringType()),\n",
    "    ]\n",
    ")\n",
    "\n",
    "movies_df = (\n",
    "    spark.read.format(\"csv\")\n",
    "    .option(\"header\", \"True\")\n",
    "    .schema(movies_schema)\n",
    "    .load(\"ml-latest-small/movies.csv\")\n",
    ")"
   ]
  },
  {
   "cell_type": "code",
   "execution_count": 9,
   "id": "21526b45-7396-4124-93d7-29cc02e902ea",
   "metadata": {},
   "outputs": [
    {
     "name": "stderr",
     "output_type": "stream",
     "text": [
      "                                                                                \r"
     ]
    },
    {
     "data": {
      "text/plain": [
       "(3683, 100836)"
      ]
     },
     "execution_count": 9,
     "metadata": {},
     "output_type": "execute_result"
    }
   ],
   "source": [
    "tags_df.count(), ratings_df.count()"
   ]
  },
  {
   "cell_type": "markdown",
   "id": "cde04379-e3d7-4619-8558-b5436e905f38",
   "metadata": {},
   "source": [
    "Было выполнено по 1 стейдж и 1 таске для каждого count"
   ]
  },
  {
   "cell_type": "markdown",
   "id": "689637cb-46f9-4397-a998-65b50aefb44a",
   "metadata": {},
   "source": [
    "# Part 2"
   ]
  },
  {
   "cell_type": "code",
   "execution_count": 10,
   "id": "f62a40cb-d3e8-422b-98be-6e6e76ac3fe2",
   "metadata": {},
   "outputs": [
    {
     "name": "stderr",
     "output_type": "stream",
     "text": [
      "                                                                                \r"
     ]
    },
    {
     "name": "stdout",
     "output_type": "stream",
     "text": [
      "+-----------------------+\n",
      "|count(DISTINCT movieId)|\n",
      "+-----------------------+\n",
      "|                   9724|\n",
      "+-----------------------+\n",
      "\n",
      "+----------------------+\n",
      "|count(DISTINCT userId)|\n",
      "+----------------------+\n",
      "|                   610|\n",
      "+----------------------+\n",
      "\n"
     ]
    },
    {
     "data": {
      "text/plain": [
       "(None, None)"
      ]
     },
     "execution_count": 10,
     "metadata": {},
     "output_type": "execute_result"
    }
   ],
   "source": [
    "(\n",
    "    ratings_df.agg(f.countDistinct(\"movieId\")).show(),\n",
    "    ratings_df.agg(f.countDistinct(\"userId\")).show(),\n",
    ")"
   ]
  },
  {
   "cell_type": "code",
   "execution_count": 11,
   "id": "60b290d6-5f89-4723-9eaf-0045635cc6d6",
   "metadata": {},
   "outputs": [
    {
     "data": {
      "text/plain": [
       "48580"
      ]
     },
     "execution_count": 11,
     "metadata": {},
     "output_type": "execute_result"
    }
   ],
   "source": [
    "ratings_df.filter(ratings_df[\"rating\"] >= 4).count()"
   ]
  },
  {
   "cell_type": "code",
   "execution_count": 12,
   "id": "add6576a-4357-4757-9830-1d4989d38934",
   "metadata": {
    "scrolled": true
   },
   "outputs": [
    {
     "name": "stderr",
     "output_type": "stream",
     "text": [
      "                                                                                \r"
     ]
    },
    {
     "name": "stdout",
     "output_type": "stream",
     "text": [
      "+-------+--------------+--------------------+--------------------+\n",
      "|movieId|average_rating|               title|              genres|\n",
      "+-------+--------------+--------------------+--------------------+\n",
      "|    148|           5.0|Awfully Big Adven...|               Drama|\n",
      "|    496|           5.0|What Happened Was...|Comedy|Drama|Roma...|\n",
      "|    626|           5.0|Thin Line Between...|              Comedy|\n",
      "|    633|           5.0|Denise Calls Up (...|              Comedy|\n",
      "|    876|           5.0|Supercop 2 (Proje...|Action|Comedy|Cri...|\n",
      "|   1151|           5.0| Lesson Faust (1994)|Animation|Comedy|...|\n",
      "|   1349|           5.0|Vampire in Venice...|              Horror|\n",
      "|   2196|           5.0|    Knock Off (1998)|              Action|\n",
      "|   2824|           5.0| On the Ropes (1999)|   Documentary|Drama|\n",
      "|   3086|           5.0|Babes in Toyland ...|Children|Comedy|F...|\n",
      "|   3473|           5.0|Jonah Who Will Be...|              Comedy|\n",
      "|   3496|           5.0|Madame Sousatzka ...|               Drama|\n",
      "|   3792|           5.0|Duel in the Sun (...|Drama|Romance|Wes...|\n",
      "|   3795|           5.0|Five Senses, The ...|               Drama|\n",
      "|   3941|           5.0|Sorority House Ma...|              Horror|\n",
      "|   4454|           5.0|         More (1998)|Animation|Drama|S...|\n",
      "|   4788|           5.0|Moscow Does Not B...|       Drama|Romance|\n",
      "|   5088|           5.0|Going Places (Val...|  Comedy|Crime|Drama|\n",
      "|   5490|           5.0|  The Big Bus (1976)|       Action|Comedy|\n",
      "|   5513|           5.0|Martin Lawrence L...|  Comedy|Documentary|\n",
      "|   6086|           5.0|  I, the Jury (1982)|Crime|Drama|Thriller|\n",
      "|   6201|           5.0|    Lady Jane (1986)|       Drama|Romance|\n",
      "|   6835|           5.0|Alien Contaminati...|Action|Horror|Sci-Fi|\n",
      "|   7096|           5.0|Rivers and Tides ...|         Documentary|\n",
      "|   7815|           5.0| True Stories (1986)|      Comedy|Musical|\n",
      "|   8911|           5.0|Raise Your Voice ...|             Romance|\n",
      "|  25887|           5.0|Tales of Manhatta...|        Comedy|Drama|\n",
      "|  25906|           5.0|Mr. Skeffington (...|       Drama|Romance|\n",
      "|  26147|           5.0|Thousand Clowns, ...|Comedy|Drama|Romance|\n",
      "|  26350|           5.0|Passenger, The (P...|               Drama|\n",
      "|  26840|           5.0|Sonatine (Sonachi...|Action|Comedy|Cri...|\n",
      "|  26928|           5.0|Summer's Tale, A ...|Comedy|Drama|Romance|\n",
      "|  27523|           5.0|My Sassy Girl (Ye...|      Comedy|Romance|\n",
      "|  33138|           5.0|  Palindromes (2004)|Adventure|Comedy|...|\n",
      "|  40491|           5.0|Match Factory Gir...|        Comedy|Drama|\n",
      "|  42556|           5.0|7 Faces of Dr. La...|Fantasy|Mystery|W...|\n",
      "|  47736|           5.0|Chump at Oxford, ...|              Comedy|\n",
      "|  50999|           5.0|Ugly Duckling and...|    Animation|Comedy|\n",
      "|  53355|           5.0|Sun Alley (Sonnen...|      Comedy|Romance|\n",
      "|  53578|           5.0|Valet, The (La do...|              Comedy|\n",
      "|  59814|           5.0|   Ex Drummer (2007)|Comedy|Crime|Dram...|\n",
      "|  67618|           5.0|Strictly Sexual (...|Comedy|Drama|Romance|\n",
      "|  69211|           5.0|Boy Eats Girl (2005)|       Comedy|Horror|\n",
      "|  69469|           5.0|Garfield's Pet Fo...|           Animation|\n",
      "|  69860|           5.0|     Eichmann (2007)|           Drama|War|\n",
      "|  71268|           5.0|Tyler Perry's I C...|        Comedy|Drama|\n",
      "|  83969|           5.0|Down Argentine Wa...|Comedy|Drama|Romance|\n",
      "|  85295|           5.0|Scooby-Doo! Curse...|Adventure|Childre...|\n",
      "|  86237|           5.0|  Connections (1978)|         Documentary|\n",
      "|  86668|           5.0|Louis Theroux: La...|         Documentary|\n",
      "|  87834|           5.0|My Life as McDull...|Animation|Comedy|...|\n",
      "|  88448|           5.0|Paper Birds (Pája...|        Comedy|Drama|\n",
      "|  93022|           5.0|  Miss Nobody (2010)|        Comedy|Crime|\n",
      "|  94810|           5.0|          Eva (2011)|Drama|Fantasy|Sci-Fi|\n",
      "|  99636|           5.0|English Vinglish ...|        Comedy|Drama|\n",
      "| 104780|           5.0|Mystery of the Th...|Adventure|Animati...|\n",
      "| 109633|           5.0|Garden of Words, ...|   Animation|Romance|\n",
      "| 115727|           5.0|Crippled Avengers...|    Action|Adventure|\n",
      "| 118834|           5.0|National Lampoon'...|              Comedy|\n",
      "| 118894|           5.0|Scooby-Doo! Abrac...|Animation|Childre...|\n",
      "| 120130|           5.0|Into the Forest o...|Animation|Drama|F...|\n",
      "| 120138|           5.0|           PK (2014)|Comedy|Drama|Fant...|\n",
      "| 122092|           5.0|        Guy X (2005)|          Comedy|War|\n",
      "| 124851|           5.0|     Delirium (2014)|Adventure|Romance...|\n",
      "| 126921|           5.0|The Fox and the H...|Adventure|Animati...|\n",
      "| 131724|           5.0|The Jinx: The Lif...|         Documentary|\n",
      "| 132333|           5.0|         Seve (2014)|   Documentary|Drama|\n",
      "| 134004|           5.0| What Love Is (2007)|      Comedy|Romance|\n",
      "| 134847|           5.0|Ghost Graduation ...|              Comedy|\n",
      "| 136353|           5.0|Scooby-Doo! and t...|Animation|Childre...|\n",
      "| 136469|           5.0|Larry David: Curb...|              Comedy|\n",
      "| 138632|           5.0|  Tokyo Tribe (2014)|Action|Crime|Dram...|\n",
      "| 138835|           5.0|Return to Treasur...|Adventure|Animati...|\n",
      "| 140627|           5.0|Battle For Sevast...|   Drama|Romance|War|\n",
      "| 141718|           5.0|    Deathgasm (2015)|       Comedy|Horror|\n",
      "| 141928|           5.0|Bloodsucking Bast...|       Comedy|Horror|\n",
      "| 142444|           5.0|   The Editor (2015)|Comedy|Horror|Mys...|\n",
      "| 143559|           5.0| L.A. Slasher (2015)|Comedy|Crime|Fantasy|\n",
      "| 146684|           5.0|Cosmic Scrat-tast...|Animation|Childre...|\n",
      "| 147300|           5.0|Adventures Of She...|       Crime|Mystery|\n",
      "| 151769|           5.0|Three from Prosto...|           Animation|\n",
      "| 152711|           5.0|Who Killed Chea V...|         Documentary|\n",
      "| 156025|           5.0|Ice Age: The Grea...|Adventure|Animati...|\n",
      "| 157775|           5.0|Tenchi Muyô! In L...|    Animation|Comedy|\n",
      "| 158398|           5.0|World of Glory (1...|              Comedy|\n",
      "| 160644|           5.0|  Indignation (2016)|               Drama|\n",
      "| 163112|           5.0|Winnie the Pooh G...|           Animation|\n",
      "| 163925|           5.0|Wings, Legs and T...|    Animation|Comedy|\n",
      "| 164367|           5.0|The Girl with All...|Drama|Horror|Sci-...|\n",
      "| 167064|           5.0|I Am Not Your Neg...|         Documentary|\n",
      "| 172583|           5.0|Investigation Hel...|           Animation|\n",
      "| 172589|           5.0|Winter in Prostok...|           Animation|\n",
      "| 172705|           5.0|Tickling Giants (...|         Documentary|\n",
      "| 172793|           5.0|Vovka in the King...|Adventure|Animati...|\n",
      "| 172909|           5.0|  Cheburashka (1971)|           Animation|\n",
      "| 173355|           5.0|Travels of an Ant...|           Animation|\n",
      "| 173619|           5.0|    Fugitives (1986)|        Comedy|Crime|\n",
      "| 173963|           5.0|      Empties (2007)|              Comedy|\n",
      "| 175387|           5.0|On the Trail of t...|Adventure|Animati...|\n",
      "| 187717|           5.0|Won't You Be My N...|         Documentary|\n",
      "+-------+--------------+--------------------+--------------------+\n",
      "\n"
     ]
    }
   ],
   "source": [
    "(\n",
    "    ratings_df.groupBy(\"movieId\")\n",
    "    .agg(f.avg(\"rating\").alias(\"average_rating\"))\n",
    "    .orderBy(f.col(\"average_rating\").desc())\n",
    "    .limit(100)\n",
    "    .join(movies_df, \"movieId\")\n",
    "    .show(100)\n",
    ")"
   ]
  },
  {
   "cell_type": "code",
   "execution_count": 13,
   "id": "0ea9e246-52e7-4aeb-91ac-5c1e2c84198d",
   "metadata": {},
   "outputs": [
    {
     "name": "stdout",
     "output_type": "stream",
     "text": [
      "+--------------------+\n",
      "|avg(time_difference)|\n",
      "+--------------------+\n",
      "|  26243.727372267072|\n",
      "+--------------------+\n",
      "\n"
     ]
    }
   ],
   "source": [
    "joined_df = ratings_df.join(\n",
    "    tags_df.withColumnRenamed(\"timestamp\", \"timestamp_tag\"), [\"userId\", \"movieId\"]\n",
    ")\n",
    "(\n",
    "    joined_df.withColumn(\n",
    "        \"time_difference\", (f.col(\"timestamp_tag\") - f.col(\"timestamp\")) / 1000\n",
    "    )\n",
    "    .agg(f.avg(\"time_difference\"))\n",
    "    .show()\n",
    ")"
   ]
  },
  {
   "cell_type": "code",
   "execution_count": 14,
   "id": "50778825-f944-49aa-a47d-2a66da26d857",
   "metadata": {},
   "outputs": [
    {
     "name": "stdout",
     "output_type": "stream",
     "text": [
      "+--------------------+\n",
      "|avg(avg_user_rating)|\n",
      "+--------------------+\n",
      "|  3.6572223377474016|\n",
      "+--------------------+\n",
      "\n"
     ]
    }
   ],
   "source": [
    "(\n",
    "    ratings_df.groupBy(\"userId\")\n",
    "    .agg(f.avg(\"rating\").alias(\"avg_user_rating\"))\n",
    "    .agg(f.avg(\"avg_user_rating\"))\n",
    "    .show()\n",
    ")"
   ]
  },
  {
   "cell_type": "markdown",
   "id": "63dec8de-cca8-4adf-8128-04e3fb5656ca",
   "metadata": {},
   "source": [
    "# Task 3"
   ]
  },
  {
   "cell_type": "code",
   "execution_count": 15,
   "id": "adae8b0f-7392-4315-aeb2-01f003594fcd",
   "metadata": {},
   "outputs": [],
   "source": [
    "from sklearn.feature_extraction.text import TfidfVectorizer\n",
    "from sklearn.linear_model import SGDRegressor\n",
    "from sklearn.pipeline import Pipeline\n",
    "import pandas as pd"
   ]
  },
  {
   "cell_type": "code",
   "execution_count": 16,
   "id": "a19f56a4-dd87-4b61-accc-6e321c0b86c4",
   "metadata": {},
   "outputs": [
    {
     "name": "stdout",
     "output_type": "stream",
     "text": [
      "+------+-------+------+----------+---------------+-------------+\n",
      "|userId|movieId|rating| timestamp|            tag|timestamp_tag|\n",
      "+------+-------+------+----------+---------------+-------------+\n",
      "|     2|  60756|   5.0|1445714980|   will ferrell|   1445714992|\n",
      "|     2|  60756|   5.0|1445714980|Highly quotable|   1445714996|\n",
      "|     2|  60756|   5.0|1445714980|          funny|   1445714994|\n",
      "|     2|  89774|   5.0|1445715189|      Tom Hardy|   1445715205|\n",
      "|     2|  89774|   5.0|1445715189|            MMA|   1445715200|\n",
      "+------+-------+------+----------+---------------+-------------+\n",
      "only showing top 5 rows\n",
      "\n"
     ]
    }
   ],
   "source": [
    "tag_raiting = ratings_df.join(\n",
    "    tags_df.withColumnRenamed(\"timestamp\", \"timestamp_tag\"), [\"userId\", \"movieId\"]\n",
    ")\n",
    "tag_raiting.show(5)"
   ]
  },
  {
   "cell_type": "code",
   "execution_count": 17,
   "id": "0a1ce7f7-c310-430a-82e8-f034d99f4da0",
   "metadata": {},
   "outputs": [
    {
     "data": {
      "text/html": [
       "<div>\n",
       "<style scoped>\n",
       "    .dataframe tbody tr th:only-of-type {\n",
       "        vertical-align: middle;\n",
       "    }\n",
       "\n",
       "    .dataframe tbody tr th {\n",
       "        vertical-align: top;\n",
       "    }\n",
       "\n",
       "    .dataframe thead th {\n",
       "        text-align: right;\n",
       "    }\n",
       "</style>\n",
       "<table border=\"1\" class=\"dataframe\">\n",
       "  <thead>\n",
       "    <tr style=\"text-align: right;\">\n",
       "      <th></th>\n",
       "      <th>userId</th>\n",
       "      <th>movieId</th>\n",
       "      <th>rating</th>\n",
       "      <th>timestamp</th>\n",
       "      <th>tag</th>\n",
       "      <th>timestamp_tag</th>\n",
       "    </tr>\n",
       "  </thead>\n",
       "  <tbody>\n",
       "    <tr>\n",
       "      <th>0</th>\n",
       "      <td>2</td>\n",
       "      <td>60756</td>\n",
       "      <td>5.0</td>\n",
       "      <td>1445714980</td>\n",
       "      <td>will ferrell</td>\n",
       "      <td>1445714992</td>\n",
       "    </tr>\n",
       "    <tr>\n",
       "      <th>1</th>\n",
       "      <td>2</td>\n",
       "      <td>60756</td>\n",
       "      <td>5.0</td>\n",
       "      <td>1445714980</td>\n",
       "      <td>Highly quotable</td>\n",
       "      <td>1445714996</td>\n",
       "    </tr>\n",
       "    <tr>\n",
       "      <th>2</th>\n",
       "      <td>2</td>\n",
       "      <td>60756</td>\n",
       "      <td>5.0</td>\n",
       "      <td>1445714980</td>\n",
       "      <td>funny</td>\n",
       "      <td>1445714994</td>\n",
       "    </tr>\n",
       "    <tr>\n",
       "      <th>3</th>\n",
       "      <td>2</td>\n",
       "      <td>89774</td>\n",
       "      <td>5.0</td>\n",
       "      <td>1445715189</td>\n",
       "      <td>Tom Hardy</td>\n",
       "      <td>1445715205</td>\n",
       "    </tr>\n",
       "    <tr>\n",
       "      <th>4</th>\n",
       "      <td>2</td>\n",
       "      <td>89774</td>\n",
       "      <td>5.0</td>\n",
       "      <td>1445715189</td>\n",
       "      <td>MMA</td>\n",
       "      <td>1445715200</td>\n",
       "    </tr>\n",
       "  </tbody>\n",
       "</table>\n",
       "</div>"
      ],
      "text/plain": [
       "   userId  movieId  rating   timestamp              tag  timestamp_tag\n",
       "0       2    60756     5.0  1445714980     will ferrell     1445714992\n",
       "1       2    60756     5.0  1445714980  Highly quotable     1445714996\n",
       "2       2    60756     5.0  1445714980            funny     1445714994\n",
       "3       2    89774     5.0  1445715189        Tom Hardy     1445715205\n",
       "4       2    89774     5.0  1445715189              MMA     1445715200"
      ]
     },
     "execution_count": 17,
     "metadata": {},
     "output_type": "execute_result"
    }
   ],
   "source": [
    "tag_raiting_df = tag_raiting.toPandas()\n",
    "tag_raiting_df.head()"
   ]
  },
  {
   "cell_type": "code",
   "execution_count": 18,
   "id": "f7bf60f3-88ac-49e1-9794-5c04c964f6a5",
   "metadata": {},
   "outputs": [],
   "source": [
    "tfidf_vectorizer = TfidfVectorizer(stop_words=\"english\")\n",
    "tfidf_features = tfidf_vectorizer.fit_transform(tag_raiting_df[\"tag\"])\n",
    "\n",
    "sgd_regressor = SGDRegressor()\n",
    "sgd_regressor.fit(tfidf_features, tag_raiting_df[\"rating\"])\n",
    "\n",
    "\n",
    "@f.pandas_udf(returnType=DoubleType())\n",
    "def predict_rating_udf(tag_series):\n",
    "    tfidf_features = tfidf_vectorizer.transform(tag_series)\n",
    "    rating_predictions = sgd_regressor.predict(tfidf_features)\n",
    "    return pd.Series(rating_predictions)"
   ]
  },
  {
   "cell_type": "code",
   "execution_count": 19,
   "id": "37cc04f6-cb2e-4e1d-a95a-fb7ac5d5e7fe",
   "metadata": {
    "scrolled": true
   },
   "outputs": [],
   "source": [
    "tag_raiting = tag_raiting.withColumn(\n",
    "    \"predicted_rating\", predict_rating_udf(f.col(\"tag\"))\n",
    ")"
   ]
  },
  {
   "cell_type": "code",
   "execution_count": 20,
   "id": "f138fe6c-80cd-4e7e-b1fb-38d28b736664",
   "metadata": {},
   "outputs": [
    {
     "name": "stderr",
     "output_type": "stream",
     "text": [
      "[Stage 40:>                                                         (0 + 1) / 1]\r"
     ]
    },
    {
     "name": "stdout",
     "output_type": "stream",
     "text": [
      "+------+-------+------+----------+-----------------+-------------+------------------+\n",
      "|userId|movieId|rating| timestamp|              tag|timestamp_tag|  predicted_rating|\n",
      "+------+-------+------+----------+-----------------+-------------+------------------+\n",
      "|     2|  60756|   5.0|1445714980|     will ferrell|   1445714992|4.0097508059381655|\n",
      "|     2|  60756|   5.0|1445714980|  Highly quotable|   1445714996| 3.953764252414835|\n",
      "|     2|  60756|   5.0|1445714980|            funny|   1445714994| 4.381228647134793|\n",
      "|     2|  89774|   5.0|1445715189|        Tom Hardy|   1445715205| 3.845329604650603|\n",
      "|     2|  89774|   5.0|1445715189|              MMA|   1445715200| 3.431430028539658|\n",
      "|     2|  89774|   5.0|1445715189|     Boxing story|   1445715207| 3.945523150434228|\n",
      "|     2| 106782|   5.0|1445714966|  Martin Scorsese|   1445715056| 3.860100728122621|\n",
      "|     2| 106782|   5.0|1445714966|Leonardo DiCaprio|   1445715051| 4.247528216899366|\n",
      "|     2| 106782|   5.0|1445714966|            drugs|   1445715054| 4.290320853744968|\n",
      "|     7|  48516|   1.0|1169687318|     way too long|   1169687325|3.4176801613091596|\n",
      "|    18|    431|   4.0|1462138790|            mafia|   1462138755| 4.162401279608807|\n",
      "|    18|    431|   4.0|1462138790|         gangster|   1462138749|3.6257657162805614|\n",
      "|    18|    431|   4.0|1462138790|        Al Pacino|   1462138765|3.8641209741210645|\n",
      "|    18|   1221|   5.0|1460242083|            Mafia|   1461699303| 4.162401279608807|\n",
      "|    18|   1221|   5.0|1460242083|        Al Pacino|   1461699306|3.8641209741210645|\n",
      "|    18|   5995|   4.5|1455735416|       true story|   1455735479|3.8807938062383807|\n",
      "|    18|   5995|   4.5|1455735416|        holocaust|   1455735472| 3.977467417299346|\n",
      "|    18|  44665|   4.5|1455049870|     twist ending|   1456948283|4.8372718128174945|\n",
      "|    18|  52604|   4.5|1457650649|     twist ending|   1457650682|4.8372718128174945|\n",
      "|    18|  52604|   4.5|1457650649|  courtroom drama|   1457650711| 3.844524598514454|\n",
      "+------+-------+------+----------+-----------------+-------------+------------------+\n",
      "only showing top 20 rows\n",
      "\n"
     ]
    },
    {
     "name": "stderr",
     "output_type": "stream",
     "text": [
      "                                                                                \r"
     ]
    }
   ],
   "source": [
    "tag_raiting.show()"
   ]
  },
  {
   "cell_type": "code",
   "execution_count": 21,
   "id": "efd9d2ed-b2a2-4b48-bd8b-d8402806b75c",
   "metadata": {},
   "outputs": [
    {
     "name": "stderr",
     "output_type": "stream",
     "text": [
      "[Stage 42:>                                                         (0 + 1) / 1]\r"
     ]
    },
    {
     "name": "stdout",
     "output_type": "stream",
     "text": [
      "+------------------+\n",
      "|              rmse|\n",
      "+------------------+\n",
      "|0.8731991743777643|\n",
      "+------------------+\n",
      "\n"
     ]
    },
    {
     "name": "stderr",
     "output_type": "stream",
     "text": [
      "                                                                                \r"
     ]
    }
   ],
   "source": [
    "res = tag_raiting.select(\n",
    "    f.sqrt(f.avg((f.col(\"rating\") - f.col(\"predicted_rating\")) ** 2)).alias(\"rmse\")\n",
    ")\n",
    "res.show()"
   ]
  },
  {
   "cell_type": "markdown",
   "id": "b51d7305-6fc3-48a6-a4e0-6639582af1d2",
   "metadata": {},
   "source": [
    "1 стейдж 1 таска\n",
    "![](../imgs/rmse_stage.png)"
   ]
  },
  {
   "cell_type": "code",
   "execution_count": null,
   "id": "8418b64c-bd9b-4133-839c-455f43712b2e",
   "metadata": {},
   "outputs": [],
   "source": []
  }
 ],
 "metadata": {
  "kernelspec": {
   "display_name": "Python 3 (ipykernel)",
   "language": "python",
   "name": "python3"
  },
  "language_info": {
   "codemirror_mode": {
    "name": "ipython",
    "version": 3
   },
   "file_extension": ".py",
   "mimetype": "text/x-python",
   "name": "python",
   "nbconvert_exporter": "python",
   "pygments_lexer": "ipython3",
   "version": "3.10.12"
  }
 },
 "nbformat": 4,
 "nbformat_minor": 5
}
